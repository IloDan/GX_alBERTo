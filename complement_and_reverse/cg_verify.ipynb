{
 "cells": [
  {
   "cell_type": "code",
   "execution_count": 4,
   "metadata": {},
   "outputs": [],
   "source": [
    "import pandas as pd"
   ]
  },
  {
   "cell_type": "code",
   "execution_count": 15,
   "metadata": {},
   "outputs": [
    {
     "name": "stderr",
     "output_type": "stream",
     "text": [
      "<>:1: SyntaxWarning: invalid escape sequence '\\d'\n",
      "<>:1: SyntaxWarning: invalid escape sequence '\\d'\n",
      "C:\\Users\\39379\\AppData\\Local\\Temp\\ipykernel_15768\\1828333579.py:1: SyntaxWarning: invalid escape sequence '\\d'\n",
      "  newDataset1_0 = pd.read_hdf(\"alBERTo\\df_alberto_0.h5\", mode=\"r\")\n"
     ]
    }
   ],
   "source": [
    "newDataset1_0 = pd.read_hdf(\"alBERTo\\df_alberto_0.h5\", mode=\"r\")"
   ]
  },
  {
   "cell_type": "code",
   "execution_count": 5,
   "metadata": {},
   "outputs": [
    {
     "name": "stderr",
     "output_type": "stream",
     "text": [
      "<>:1: SyntaxWarning: invalid escape sequence '\\d'\n",
      "<>:2: SyntaxWarning: invalid escape sequence '\\d'\n",
      "<>:3: SyntaxWarning: invalid escape sequence '\\d'\n",
      "<>:4: SyntaxWarning: invalid escape sequence '\\d'\n",
      "<>:5: SyntaxWarning: invalid escape sequence '\\d'\n",
      "<>:6: SyntaxWarning: invalid escape sequence '\\d'\n",
      "<>:7: SyntaxWarning: invalid escape sequence '\\d'\n",
      "<>:1: SyntaxWarning: invalid escape sequence '\\d'\n",
      "<>:2: SyntaxWarning: invalid escape sequence '\\d'\n",
      "<>:3: SyntaxWarning: invalid escape sequence '\\d'\n",
      "<>:4: SyntaxWarning: invalid escape sequence '\\d'\n",
      "<>:5: SyntaxWarning: invalid escape sequence '\\d'\n",
      "<>:6: SyntaxWarning: invalid escape sequence '\\d'\n",
      "<>:7: SyntaxWarning: invalid escape sequence '\\d'\n",
      "C:\\Users\\39379\\AppData\\Local\\Temp\\ipykernel_15544\\3008503158.py:1: SyntaxWarning: invalid escape sequence '\\d'\n",
      "  newDataset1_0 = pd.read_hdf(\"alBERTo\\df_alberto_0.h5\",  mode=\"r\")\n",
      "C:\\Users\\39379\\AppData\\Local\\Temp\\ipykernel_15544\\3008503158.py:2: SyntaxWarning: invalid escape sequence '\\d'\n",
      "  newDataset1_1 = pd.read_hdf(\"alBERTo\\df_alberto_1.h5\",  mode=\"r\")\n",
      "C:\\Users\\39379\\AppData\\Local\\Temp\\ipykernel_15544\\3008503158.py:3: SyntaxWarning: invalid escape sequence '\\d'\n",
      "  newDataset1_2 = pd.read_hdf(\"alBERTo\\df_alberto_2.h5\",  mode=\"r\")\n",
      "C:\\Users\\39379\\AppData\\Local\\Temp\\ipykernel_15544\\3008503158.py:4: SyntaxWarning: invalid escape sequence '\\d'\n",
      "  newDataset1_3 = pd.read_hdf(\"alBERTo\\df_alberto_3.h5\",  mode=\"r\")\n",
      "C:\\Users\\39379\\AppData\\Local\\Temp\\ipykernel_15544\\3008503158.py:5: SyntaxWarning: invalid escape sequence '\\d'\n",
      "  newDataset1_4 = pd.read_hdf(\"alBERTo\\df_alberto_4.h5\",  mode=\"r\")\n",
      "C:\\Users\\39379\\AppData\\Local\\Temp\\ipykernel_15544\\3008503158.py:6: SyntaxWarning: invalid escape sequence '\\d'\n",
      "  newDataset1_5 = pd.read_hdf(\"alBERTo\\df_alberto_5.h5\",  mode=\"r\")\n",
      "C:\\Users\\39379\\AppData\\Local\\Temp\\ipykernel_15544\\3008503158.py:7: SyntaxWarning: invalid escape sequence '\\d'\n",
      "  newDataset1_6 = pd.read_hdf(\"alBERTo\\df_alberto_6.h5\",  mode=\"r\")\n"
     ]
    }
   ],
   "source": [
    "newDataset1_0 = pd.read_hdf(\"alBERTo\\df_alberto_0.h5\",  mode=\"r\")\n",
    "newDataset1_1 = pd.read_hdf(\"alBERTo\\df_alberto_1.h5\",  mode=\"r\")\n",
    "newDataset1_2 = pd.read_hdf(\"alBERTo\\df_alberto_2.h5\",  mode=\"r\")\n",
    "newDataset1_3 = pd.read_hdf(\"alBERTo\\df_alberto_3.h5\",  mode=\"r\")\n",
    "newDataset1_4 = pd.read_hdf(\"alBERTo\\df_alberto_4.h5\",  mode=\"r\")\n",
    "newDataset1_5 = pd.read_hdf(\"alBERTo\\df_alberto_5.h5\",  mode=\"r\")\n",
    "newDataset1_6 = pd.read_hdf(\"alBERTo\\df_alberto_6.h5\",  mode=\"r\")\n",
    "\n",
    "dataset = pd.concat(\n",
    "                    [newDataset1_0, \n",
    "                     newDataset1_1,\n",
    "                     newDataset1_2, \n",
    "                     newDataset1_3, \n",
    "                     newDataset1_4, \n",
    "                     newDataset1_5, \n",
    "                     newDataset1_6]\n",
    "                     )\n",
    "\n"
   ]
  },
  {
   "cell_type": "code",
   "execution_count": 6,
   "metadata": {},
   "outputs": [
    {
     "data": {
      "text/html": [
       "<div>\n",
       "<style scoped>\n",
       "    .dataframe tbody tr th:only-of-type {\n",
       "        vertical-align: middle;\n",
       "    }\n",
       "\n",
       "    .dataframe tbody tr th {\n",
       "        vertical-align: top;\n",
       "    }\n",
       "\n",
       "    .dataframe thead th {\n",
       "        text-align: right;\n",
       "    }\n",
       "</style>\n",
       "<table border=\"1\" class=\"dataframe\">\n",
       "  <thead>\n",
       "    <tr style=\"text-align: right;\">\n",
       "      <th></th>\n",
       "      <th>gene_id</th>\n",
       "      <th>gene_type</th>\n",
       "      <th>split</th>\n",
       "      <th>labels</th>\n",
       "      <th>gene_name</th>\n",
       "      <th>TSS</th>\n",
       "      <th>chromosome_name</th>\n",
       "      <th>strand</th>\n",
       "      <th>fpkm_median</th>\n",
       "      <th>tpm_median</th>\n",
       "      <th>fpkm_uq_median</th>\n",
       "      <th>Seq</th>\n",
       "    </tr>\n",
       "  </thead>\n",
       "  <tbody>\n",
       "    <tr>\n",
       "      <th>0</th>\n",
       "      <td>ENSG00000121410</td>\n",
       "      <td>protein_coding</td>\n",
       "      <td>train</td>\n",
       "      <td>0.128766</td>\n",
       "      <td>A1BG</td>\n",
       "      <td>58347673</td>\n",
       "      <td>chr19</td>\n",
       "      <td>-</td>\n",
       "      <td>-4.563199</td>\n",
       "      <td>-3.172669</td>\n",
       "      <td>-4.445362</td>\n",
       "      <td>[3, 3, 1, 0, 0, 2, 0, 1, 1, 0, 2, 1, 1, 3, 2, ...</td>\n",
       "    </tr>\n",
       "    <tr>\n",
       "      <th>1</th>\n",
       "      <td>ENSG00000148584</td>\n",
       "      <td>protein_coding</td>\n",
       "      <td>train</td>\n",
       "      <td>-1.442332</td>\n",
       "      <td>A1CF</td>\n",
       "      <td>50885633</td>\n",
       "      <td>chr10</td>\n",
       "      <td>-</td>\n",
       "      <td>-7.243318</td>\n",
       "      <td>-6.687800</td>\n",
       "      <td>-7.179188</td>\n",
       "      <td>[3, 2, 3, 1, 0, 0, 0, 1, 0, 3, 1, 3, 3, 3, 2, ...</td>\n",
       "    </tr>\n",
       "    <tr>\n",
       "      <th>2</th>\n",
       "      <td>ENSG00000175899</td>\n",
       "      <td>protein_coding</td>\n",
       "      <td>train</td>\n",
       "      <td>1.172033</td>\n",
       "      <td>A2M</td>\n",
       "      <td>9115927</td>\n",
       "      <td>chr12</td>\n",
       "      <td>-</td>\n",
       "      <td>5.214346</td>\n",
       "      <td>6.680884</td>\n",
       "      <td>5.391613</td>\n",
       "      <td>[0, 3, 3, 3, 3, 1, 1, 0, 3, 2, 0, 2, 0, 0, 0, ...</td>\n",
       "    </tr>\n",
       "    <tr>\n",
       "      <th>3</th>\n",
       "      <td>ENSG00000166535</td>\n",
       "      <td>protein_coding</td>\n",
       "      <td>train</td>\n",
       "      <td>-1.300226</td>\n",
       "      <td>A2ML1</td>\n",
       "      <td>8822627</td>\n",
       "      <td>chr12</td>\n",
       "      <td>+</td>\n",
       "      <td>-2.501443</td>\n",
       "      <td>-1.024150</td>\n",
       "      <td>-2.346665</td>\n",
       "      <td>[3, 2, 1, 3, 2, 2, 0, 0, 2, 1, 1, 0, 1, 1, 0, ...</td>\n",
       "    </tr>\n",
       "    <tr>\n",
       "      <th>4</th>\n",
       "      <td>ENSG00000128274</td>\n",
       "      <td>protein_coding</td>\n",
       "      <td>train</td>\n",
       "      <td>0.157178</td>\n",
       "      <td>A4GALT</td>\n",
       "      <td>42720879</td>\n",
       "      <td>chr22</td>\n",
       "      <td>-</td>\n",
       "      <td>2.025064</td>\n",
       "      <td>3.517855</td>\n",
       "      <td>2.194465</td>\n",
       "      <td>[1, 0, 2, 2, 1, 0, 3, 2, 2, 3, 2, 2, 3, 2, 1, ...</td>\n",
       "    </tr>\n",
       "    <tr>\n",
       "      <th>...</th>\n",
       "      <td>...</td>\n",
       "      <td>...</td>\n",
       "      <td>...</td>\n",
       "      <td>...</td>\n",
       "      <td>...</td>\n",
       "      <td>...</td>\n",
       "      <td>...</td>\n",
       "      <td>...</td>\n",
       "      <td>...</td>\n",
       "      <td>...</td>\n",
       "      <td>...</td>\n",
       "      <td>...</td>\n",
       "    </tr>\n",
       "    <tr>\n",
       "      <th>18049</th>\n",
       "      <td>ENSG00000250067</td>\n",
       "      <td>protein_coding</td>\n",
       "      <td>train</td>\n",
       "      <td>1.277756</td>\n",
       "      <td>YJEFN3</td>\n",
       "      <td>19639691</td>\n",
       "      <td>chr19</td>\n",
       "      <td>+</td>\n",
       "      <td>0.554245</td>\n",
       "      <td>2.024284</td>\n",
       "      <td>0.743644</td>\n",
       "      <td>[2, 0, 0, 0, 3, 2, 0, 2, 0, 2, 2, 0, 2, 2, 2, ...</td>\n",
       "    </tr>\n",
       "    <tr>\n",
       "      <th>18061</th>\n",
       "      <td>ENSG00000251655</td>\n",
       "      <td>protein_coding</td>\n",
       "      <td>train</td>\n",
       "      <td>-1.463212</td>\n",
       "      <td>PRB1</td>\n",
       "      <td>11508524</td>\n",
       "      <td>chr12</td>\n",
       "      <td>-</td>\n",
       "      <td>-7.643856</td>\n",
       "      <td>-7.643856</td>\n",
       "      <td>-7.643856</td>\n",
       "      <td>[0, 2, 1, 3, 0, 2, 0, 0, 0, 3, 0, 1, 1, 0, 3, ...</td>\n",
       "    </tr>\n",
       "    <tr>\n",
       "      <th>18071</th>\n",
       "      <td>ENSG00000254647</td>\n",
       "      <td>protein_coding</td>\n",
       "      <td>train</td>\n",
       "      <td>-1.463212</td>\n",
       "      <td>INS</td>\n",
       "      <td>2182434</td>\n",
       "      <td>chr11</td>\n",
       "      <td>-</td>\n",
       "      <td>-7.643856</td>\n",
       "      <td>-7.643856</td>\n",
       "      <td>-7.643856</td>\n",
       "      <td>[2, 1, 3, 3, 2, 2, 0, 1, 1, 1, 1, 0, 1, 3, 2, ...</td>\n",
       "    </tr>\n",
       "    <tr>\n",
       "      <th>18073</th>\n",
       "      <td>ENSG00000254685</td>\n",
       "      <td>protein_coding</td>\n",
       "      <td>train</td>\n",
       "      <td>0.350839</td>\n",
       "      <td>FPGT</td>\n",
       "      <td>74663926</td>\n",
       "      <td>chr1</td>\n",
       "      <td>+</td>\n",
       "      <td>1.582171</td>\n",
       "      <td>3.110397</td>\n",
       "      <td>1.757621</td>\n",
       "      <td>[0, 0, 0, 1, 3, 2, 2, 1, 3, 0, 2, 1, 1, 0, 3, ...</td>\n",
       "    </tr>\n",
       "    <tr>\n",
       "      <th>18111</th>\n",
       "      <td>ENSG00000257591</td>\n",
       "      <td>protein_coding</td>\n",
       "      <td>train</td>\n",
       "      <td>-0.034731</td>\n",
       "      <td>ZNF625</td>\n",
       "      <td>12267529</td>\n",
       "      <td>chr19</td>\n",
       "      <td>-</td>\n",
       "      <td>-3.878321</td>\n",
       "      <td>-2.445362</td>\n",
       "      <td>-3.712173</td>\n",
       "      <td>[3, 2, 1, 0, 2, 2, 2, 2, 2, 1, 0, 2, 1, 0, 2, ...</td>\n",
       "    </tr>\n",
       "  </tbody>\n",
       "</table>\n",
       "<p>15708 rows × 12 columns</p>\n",
       "</div>"
      ],
      "text/plain": [
       "               gene_id       gene_type  split    labels gene_name       TSS  \\\n",
       "0      ENSG00000121410  protein_coding  train  0.128766      A1BG  58347673   \n",
       "1      ENSG00000148584  protein_coding  train -1.442332      A1CF  50885633   \n",
       "2      ENSG00000175899  protein_coding  train  1.172033       A2M   9115927   \n",
       "3      ENSG00000166535  protein_coding  train -1.300226     A2ML1   8822627   \n",
       "4      ENSG00000128274  protein_coding  train  0.157178    A4GALT  42720879   \n",
       "...                ...             ...    ...       ...       ...       ...   \n",
       "18049  ENSG00000250067  protein_coding  train  1.277756    YJEFN3  19639691   \n",
       "18061  ENSG00000251655  protein_coding  train -1.463212      PRB1  11508524   \n",
       "18071  ENSG00000254647  protein_coding  train -1.463212       INS   2182434   \n",
       "18073  ENSG00000254685  protein_coding  train  0.350839      FPGT  74663926   \n",
       "18111  ENSG00000257591  protein_coding  train -0.034731    ZNF625  12267529   \n",
       "\n",
       "      chromosome_name strand  fpkm_median  tpm_median  fpkm_uq_median  \\\n",
       "0               chr19      -    -4.563199   -3.172669       -4.445362   \n",
       "1               chr10      -    -7.243318   -6.687800       -7.179188   \n",
       "2               chr12      -     5.214346    6.680884        5.391613   \n",
       "3               chr12      +    -2.501443   -1.024150       -2.346665   \n",
       "4               chr22      -     2.025064    3.517855        2.194465   \n",
       "...               ...    ...          ...         ...             ...   \n",
       "18049           chr19      +     0.554245    2.024284        0.743644   \n",
       "18061           chr12      -    -7.643856   -7.643856       -7.643856   \n",
       "18071           chr11      -    -7.643856   -7.643856       -7.643856   \n",
       "18073            chr1      +     1.582171    3.110397        1.757621   \n",
       "18111           chr19      -    -3.878321   -2.445362       -3.712173   \n",
       "\n",
       "                                                     Seq  \n",
       "0      [3, 3, 1, 0, 0, 2, 0, 1, 1, 0, 2, 1, 1, 3, 2, ...  \n",
       "1      [3, 2, 3, 1, 0, 0, 0, 1, 0, 3, 1, 3, 3, 3, 2, ...  \n",
       "2      [0, 3, 3, 3, 3, 1, 1, 0, 3, 2, 0, 2, 0, 0, 0, ...  \n",
       "3      [3, 2, 1, 3, 2, 2, 0, 0, 2, 1, 1, 0, 1, 1, 0, ...  \n",
       "4      [1, 0, 2, 2, 1, 0, 3, 2, 2, 3, 2, 2, 3, 2, 1, ...  \n",
       "...                                                  ...  \n",
       "18049  [2, 0, 0, 0, 3, 2, 0, 2, 0, 2, 2, 0, 2, 2, 2, ...  \n",
       "18061  [0, 2, 1, 3, 0, 2, 0, 0, 0, 3, 0, 1, 1, 0, 3, ...  \n",
       "18071  [2, 1, 3, 3, 2, 2, 0, 1, 1, 1, 1, 0, 1, 3, 2, ...  \n",
       "18073  [0, 0, 0, 1, 3, 2, 2, 1, 3, 0, 2, 1, 1, 0, 3, ...  \n",
       "18111  [3, 2, 1, 0, 2, 2, 2, 2, 2, 1, 0, 2, 1, 0, 2, ...  \n",
       "\n",
       "[15708 rows x 12 columns]"
      ]
     },
     "execution_count": 6,
     "metadata": {},
     "output_type": "execute_result"
    }
   ],
   "source": [
    "dataset"
   ]
  },
  {
   "cell_type": "code",
   "execution_count": 17,
   "metadata": {},
   "outputs": [
    {
     "data": {
      "text/plain": [
       "131072"
      ]
     },
     "execution_count": 17,
     "metadata": {},
     "output_type": "execute_result"
    }
   ],
   "source": [
    "2**17"
   ]
  },
  {
   "cell_type": "code",
   "execution_count": 14,
   "metadata": {},
   "outputs": [
    {
     "data": {
      "text/plain": [
       "58347673"
      ]
     },
     "execution_count": 14,
     "metadata": {},
     "output_type": "execute_result"
    }
   ],
   "source": [
    "dataset['TSS'][0]"
   ]
  },
  {
   "cell_type": "code",
   "execution_count": 18,
   "metadata": {},
   "outputs": [
    {
     "data": {
      "text/plain": [
       "131072"
      ]
     },
     "execution_count": 18,
     "metadata": {},
     "output_type": "execute_result"
    }
   ],
   "source": [
    "dataset['Seq'][0].shape[0]"
   ]
  },
  {
   "cell_type": "code",
   "execution_count": null,
   "metadata": {},
   "outputs": [],
   "source": [
    "center = 2**16\n",
    "k = 2**16"
   ]
  }
 ],
 "metadata": {
  "kernelspec": {
   "display_name": "AIE",
   "language": "python",
   "name": "python3"
  },
  "language_info": {
   "codemirror_mode": {
    "name": "ipython",
    "version": 3
   },
   "file_extension": ".py",
   "mimetype": "text/x-python",
   "name": "python",
   "nbconvert_exporter": "python",
   "pygments_lexer": "ipython3",
   "version": "3.12.2"
  }
 },
 "nbformat": 4,
 "nbformat_minor": 2
}
