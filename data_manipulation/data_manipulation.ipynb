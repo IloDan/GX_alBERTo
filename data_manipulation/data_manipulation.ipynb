{
 "cells": [
  {
   "cell_type": "markdown",
   "metadata": {},
   "source": [
    "# COMPRIMO IL VETTORE DI METILAZIONE"
   ]
  },
  {
   "cell_type": "code",
   "execution_count": 25,
   "metadata": {},
   "outputs": [
    {
     "name": "stdout",
     "output_type": "stream",
     "text": [
      "Dimensioni dataset di test:`(618, 13)`\n",
      "Dimensioni dataset di validazione:`(683, 13)`\n",
      "Dimensioni dataset di train:`(16717, 13)`\n"
     ]
    },
    {
     "data": {
      "text/plain": [
       "array([[0., 0., 0., ..., 0., 0., 0.],\n",
       "       [0., 0., 0., ..., 0., 0., 0.],\n",
       "       [0., 0., 0., ..., 0., 0., 0.],\n",
       "       ...,\n",
       "       [0., 0., 0., ..., 0., 0., 0.],\n",
       "       [0., 0., 0., ..., 0., 0., 0.],\n",
       "       [0., 0., 0., ..., 0., 0., 0.]], dtype=float32)"
      ]
     },
     "execution_count": 25,
     "metadata": {},
     "output_type": "execute_result"
    }
   ],
   "source": [
    "import pandas as pd \n",
    "import numpy as np\n",
    "\n",
    "df0 = pd.read_hdf('../dataset/Dataset_16000/alberto_seq_array_0.h5', key='1234', mode='r')\n",
    "df1 = pd.read_hdf('../dataset/Dataset_16000/alberto_seq_array_1.h5', key='1234', mode='r')\n",
    "df2 = pd.read_hdf('../dataset/Dataset_16000/alberto_seq_array_2.h5', key='1234', mode='r')\n",
    "df3 = pd.read_hdf('../dataset/Dataset_16000/alberto_seq_array_3.h5', key='1234', mode='r')\n",
    "df4 = pd.read_hdf('../dataset/Dataset_16000/alberto_seq_array_4.h5', key='1234', mode='r')\n",
    "df5 = pd.read_hdf('../dataset/Dataset_16000/alberto_seq_array_5.h5', key='1234', mode='r')\n",
    "df6 = pd.read_hdf('../dataset/Dataset_16000/alberto_seq_array_6.h5', key='1234', mode='r')\n",
    "df7 = pd.read_hdf('../dataset/Dataset_16000/alberto_seq_array_7.h5', key='1234', mode='r')\n",
    "df8 = pd.read_hdf('../dataset/Dataset_16000/alberto_seq_array_8.h5', key='1234', mode='r')\n",
    "df9 = pd.read_hdf('../dataset/Dataset_16000/alberto_seq_array_9.h5', key='1234', mode='r')\n",
    "\n",
    "dataset = pd.concat([df0, df1, df2, df3, df4, df5, df6, df7, df8, df9])\n",
    "\n",
    "\n",
    "test  = dataset[dataset['chromosome_name']=='chr8']\n",
    "val   = dataset[dataset['chromosome_name']=='chr10']\n",
    "train = dataset[(dataset['chromosome_name']!='chr8') & (dataset['chromosome_name']!='chr10')]\n",
    "\n",
    "\n",
    "print(f\"Dimensioni dataset di test:`{test.shape}`\")\n",
    "print(f\"Dimensioni dataset di validazione:`{val.shape}`\")\n",
    "print(f\"Dimensioni dataset di train:`{train.shape}`\")\n",
    "\n",
    "X_trainpromoter = np.array(list(train['Seq']))\n",
    "y_train = train['fpkm_uq_median'].values\n",
    "\n",
    "X_validationpromoter = np.array(list(val['Seq']))\n",
    "y_validation = val['fpkm_uq_median'].values\n",
    "\n",
    "X_testpromoter = np.array(list(test['Seq']))\n",
    "y_test = test['fpkm_uq_median'].values\n",
    "\n",
    "\n",
    "X_met_train = np.array(list(train['array']))\n",
    "X_met_val = np.array(list(val['array']))\n",
    "X_met_test = np.array(list(test['array']))\n",
    "\n",
    "\n",
    "\n",
    "#stampa il numero di valori non compresi tra 0 e 1 in X_met_train\n",
    "print(np.count_nonzero((X_met_train ==0)))"
   ]
  },
  {
   "cell_type": "code",
   "execution_count": 36,
   "metadata": {},
   "outputs": [
    {
     "name": "stdout",
     "output_type": "stream",
     "text": [
      "[0.         0.00443329 0.00446538 ... 0.9926946  0.99381137        nan]\n"
     ]
    }
   ],
   "source": [
    "#mostra valori diversi in X_met_train\n",
    "print(np.unique(X_met_train))\n"
   ]
  },
  {
   "cell_type": "code",
   "execution_count": 31,
   "metadata": {},
   "outputs": [
    {
     "data": {
      "text/html": [
       "<div>\n",
       "<style scoped>\n",
       "    .dataframe tbody tr th:only-of-type {\n",
       "        vertical-align: middle;\n",
       "    }\n",
       "\n",
       "    .dataframe tbody tr th {\n",
       "        vertical-align: top;\n",
       "    }\n",
       "\n",
       "    .dataframe thead th {\n",
       "        text-align: right;\n",
       "    }\n",
       "</style>\n",
       "<table border=\"1\" class=\"dataframe\">\n",
       "  <thead>\n",
       "    <tr style=\"text-align: right;\">\n",
       "      <th></th>\n",
       "      <th>gene_name</th>\n",
       "      <th>gene_id</th>\n",
       "      <th>gene_type</th>\n",
       "      <th>TSS</th>\n",
       "      <th>genomic_strand</th>\n",
       "      <th>chromosome_name</th>\n",
       "      <th>sequence</th>\n",
       "      <th>split</th>\n",
       "      <th>labels</th>\n",
       "    </tr>\n",
       "  </thead>\n",
       "  <tbody>\n",
       "    <tr>\n",
       "      <th>ENSG00000121410</th>\n",
       "      <td>A1BG</td>\n",
       "      <td>ENSG00000121410.12</td>\n",
       "      <td>protein_coding</td>\n",
       "      <td>58347673</td>\n",
       "      <td>-</td>\n",
       "      <td>chr19</td>\n",
       "      <td>[0, 0, 0, 3, 0, 0, 0, 0, 0, 0, 0, 1, 0, 2, 2, ...</td>\n",
       "      <td>train</td>\n",
       "      <td>0.128766</td>\n",
       "    </tr>\n",
       "    <tr>\n",
       "      <th>ENSG00000148584</th>\n",
       "      <td>A1CF</td>\n",
       "      <td>ENSG00000148584.15</td>\n",
       "      <td>protein_coding</td>\n",
       "      <td>50885633</td>\n",
       "      <td>-</td>\n",
       "      <td>chr10</td>\n",
       "      <td>[1, 1, 3, 0, 0, 0, 3, 2, 2, 1, 1, 1, 2, 1, 2, ...</td>\n",
       "      <td>train</td>\n",
       "      <td>-1.442332</td>\n",
       "    </tr>\n",
       "    <tr>\n",
       "      <th>ENSG00000175899</th>\n",
       "      <td>A2M</td>\n",
       "      <td>ENSG00000175899.15</td>\n",
       "      <td>protein_coding</td>\n",
       "      <td>9115927</td>\n",
       "      <td>-</td>\n",
       "      <td>chr12</td>\n",
       "      <td>[1, 2, 0, 3, 1, 1, 0, 1, 2, 1, 2, 2, 1, 1, 0, ...</td>\n",
       "      <td>train</td>\n",
       "      <td>1.172033</td>\n",
       "    </tr>\n",
       "    <tr>\n",
       "      <th>ENSG00000166535</th>\n",
       "      <td>A2ML1</td>\n",
       "      <td>ENSG00000166535.20</td>\n",
       "      <td>protein_coding</td>\n",
       "      <td>8822627</td>\n",
       "      <td>+</td>\n",
       "      <td>chr12</td>\n",
       "      <td>[3, 1, 3, 0, 3, 2, 2, 0, 2, 2, 3, 1, 3, 2, 2, ...</td>\n",
       "      <td>train</td>\n",
       "      <td>-1.300226</td>\n",
       "    </tr>\n",
       "    <tr>\n",
       "      <th>ENSG00000128274</th>\n",
       "      <td>A4GALT</td>\n",
       "      <td>ENSG00000128274.17</td>\n",
       "      <td>protein_coding</td>\n",
       "      <td>42720879</td>\n",
       "      <td>-</td>\n",
       "      <td>chr22</td>\n",
       "      <td>[1, 0, 1, 1, 2, 0, 3, 1, 0, 1, 3, 0, 1, 3, 0, ...</td>\n",
       "      <td>train</td>\n",
       "      <td>0.157178</td>\n",
       "    </tr>\n",
       "    <tr>\n",
       "      <th>...</th>\n",
       "      <td>...</td>\n",
       "      <td>...</td>\n",
       "      <td>...</td>\n",
       "      <td>...</td>\n",
       "      <td>...</td>\n",
       "      <td>...</td>\n",
       "      <td>...</td>\n",
       "      <td>...</td>\n",
       "      <td>...</td>\n",
       "    </tr>\n",
       "    <tr>\n",
       "      <th>ENSG00000196337</th>\n",
       "      <td>CGB7</td>\n",
       "      <td>ENSG00000196337.13</td>\n",
       "      <td>protein_coding</td>\n",
       "      <td>49065062</td>\n",
       "      <td>-</td>\n",
       "      <td>chr19</td>\n",
       "      <td>[0, 0, 1, 2, 1, 2, 0, 0, 0, 3, 0, 3, 3, 0, 3, ...</td>\n",
       "      <td>train</td>\n",
       "      <td>-1.104535</td>\n",
       "    </tr>\n",
       "    <tr>\n",
       "      <th>ENSG00000163320</th>\n",
       "      <td>CGGBP1</td>\n",
       "      <td>ENSG00000163320.12</td>\n",
       "      <td>protein_coding</td>\n",
       "      <td>88059029</td>\n",
       "      <td>-</td>\n",
       "      <td>chr3</td>\n",
       "      <td>[2, 3, 1, 0, 3, 1, 0, 3, 2, 0, 3, 1, 1, 0, 1, ...</td>\n",
       "      <td>train</td>\n",
       "      <td>1.122555</td>\n",
       "    </tr>\n",
       "    <tr>\n",
       "      <th>ENSG00000143375</th>\n",
       "      <td>CGN</td>\n",
       "      <td>ENSG00000143375.15</td>\n",
       "      <td>protein_coding</td>\n",
       "      <td>151511436</td>\n",
       "      <td>+</td>\n",
       "      <td>chr1</td>\n",
       "      <td>[3, 2, 1, 0, 1, 2, 1, 2, 0, 3, 3, 0, 1, 3, 1, ...</td>\n",
       "      <td>train</td>\n",
       "      <td>-0.251813</td>\n",
       "    </tr>\n",
       "    <tr>\n",
       "      <th>ENSG00000128849</th>\n",
       "      <td>CGNL1</td>\n",
       "      <td>ENSG00000128849.11</td>\n",
       "      <td>protein_coding</td>\n",
       "      <td>57376536</td>\n",
       "      <td>+</td>\n",
       "      <td>chr15</td>\n",
       "      <td>[3, 1, 3, 1, 3, 1, 3, 1, 3, 1, 3, 1, 3, 1, 3, ...</td>\n",
       "      <td>valid</td>\n",
       "      <td>-0.047032</td>\n",
       "    </tr>\n",
       "    <tr>\n",
       "      <th>ENSG00000138028</th>\n",
       "      <td>CGREF1</td>\n",
       "      <td>ENSG00000138028.16</td>\n",
       "      <td>protein_coding</td>\n",
       "      <td>27119155</td>\n",
       "      <td>-</td>\n",
       "      <td>chr2</td>\n",
       "      <td>[1, 3, 1, 3, 1, 3, 1, 0, 3, 3, 3, 2, 0, 1, 3, ...</td>\n",
       "      <td>train</td>\n",
       "      <td>-0.362486</td>\n",
       "    </tr>\n",
       "  </tbody>\n",
       "</table>\n",
       "<p>2500 rows × 9 columns</p>\n",
       "</div>"
      ],
      "text/plain": [
       "                gene_name             gene_id       gene_type        TSS  \\\n",
       "ENSG00000121410      A1BG  ENSG00000121410.12  protein_coding   58347673   \n",
       "ENSG00000148584      A1CF  ENSG00000148584.15  protein_coding   50885633   \n",
       "ENSG00000175899       A2M  ENSG00000175899.15  protein_coding    9115927   \n",
       "ENSG00000166535     A2ML1  ENSG00000166535.20  protein_coding    8822627   \n",
       "ENSG00000128274    A4GALT  ENSG00000128274.17  protein_coding   42720879   \n",
       "...                   ...                 ...             ...        ...   \n",
       "ENSG00000196337      CGB7  ENSG00000196337.13  protein_coding   49065062   \n",
       "ENSG00000163320    CGGBP1  ENSG00000163320.12  protein_coding   88059029   \n",
       "ENSG00000143375       CGN  ENSG00000143375.15  protein_coding  151511436   \n",
       "ENSG00000128849     CGNL1  ENSG00000128849.11  protein_coding   57376536   \n",
       "ENSG00000138028    CGREF1  ENSG00000138028.16  protein_coding   27119155   \n",
       "\n",
       "                genomic_strand chromosome_name  \\\n",
       "ENSG00000121410              -           chr19   \n",
       "ENSG00000148584              -           chr10   \n",
       "ENSG00000175899              -           chr12   \n",
       "ENSG00000166535              +           chr12   \n",
       "ENSG00000128274              -           chr22   \n",
       "...                        ...             ...   \n",
       "ENSG00000196337              -           chr19   \n",
       "ENSG00000163320              -            chr3   \n",
       "ENSG00000143375              +            chr1   \n",
       "ENSG00000128849              +           chr15   \n",
       "ENSG00000138028              -            chr2   \n",
       "\n",
       "                                                          sequence  split  \\\n",
       "ENSG00000121410  [0, 0, 0, 3, 0, 0, 0, 0, 0, 0, 0, 1, 0, 2, 2, ...  train   \n",
       "ENSG00000148584  [1, 1, 3, 0, 0, 0, 3, 2, 2, 1, 1, 1, 2, 1, 2, ...  train   \n",
       "ENSG00000175899  [1, 2, 0, 3, 1, 1, 0, 1, 2, 1, 2, 2, 1, 1, 0, ...  train   \n",
       "ENSG00000166535  [3, 1, 3, 0, 3, 2, 2, 0, 2, 2, 3, 1, 3, 2, 2, ...  train   \n",
       "ENSG00000128274  [1, 0, 1, 1, 2, 0, 3, 1, 0, 1, 3, 0, 1, 3, 0, ...  train   \n",
       "...                                                            ...    ...   \n",
       "ENSG00000196337  [0, 0, 1, 2, 1, 2, 0, 0, 0, 3, 0, 3, 3, 0, 3, ...  train   \n",
       "ENSG00000163320  [2, 3, 1, 0, 3, 1, 0, 3, 2, 0, 3, 1, 1, 0, 1, ...  train   \n",
       "ENSG00000143375  [3, 2, 1, 0, 1, 2, 1, 2, 0, 3, 3, 0, 1, 3, 1, ...  train   \n",
       "ENSG00000128849  [3, 1, 3, 1, 3, 1, 3, 1, 3, 1, 3, 1, 3, 1, 3, ...  valid   \n",
       "ENSG00000138028  [1, 3, 1, 3, 1, 3, 1, 0, 3, 3, 3, 2, 0, 1, 3, ...  train   \n",
       "\n",
       "                   labels  \n",
       "ENSG00000121410  0.128766  \n",
       "ENSG00000148584 -1.442332  \n",
       "ENSG00000175899  1.172033  \n",
       "ENSG00000166535 -1.300226  \n",
       "ENSG00000128274  0.157178  \n",
       "...                   ...  \n",
       "ENSG00000196337 -1.104535  \n",
       "ENSG00000163320  1.122555  \n",
       "ENSG00000143375 -0.251813  \n",
       "ENSG00000128849 -0.047032  \n",
       "ENSG00000138028 -0.362486  \n",
       "\n",
       "[2500 rows x 9 columns]"
      ]
     },
     "execution_count": 31,
     "metadata": {},
     "output_type": "execute_result"
    }
   ],
   "source": [
    "df0 = pd.read_hdf('../dataset/CTB/CTB_128k_slack_0.h5', mode='r')\n",
    "df0"
   ]
  },
  {
   "cell_type": "code",
   "execution_count": 32,
   "metadata": {},
   "outputs": [
    {
     "name": "stdout",
     "output_type": "stream",
     "text": [
      "Massimo valore colonna labels: 3.266395777879994\n",
      "Minimo valore colonna labels: -1.4632121967076765\n"
     ]
    }
   ],
   "source": [
    "#valore massimo e minimo colonna labels\n",
    "print(f\"Massimo valore colonna labels: {df0['labels'].max()}\")\n",
    "print(f\"Minimo valore colonna labels: {df0['labels'].min()}\")"
   ]
  },
  {
   "cell_type": "code",
   "execution_count": 28,
   "metadata": {},
   "outputs": [
    {
     "data": {
      "text/plain": [
       "(618, 131072)"
      ]
     },
     "execution_count": 28,
     "metadata": {},
     "output_type": "execute_result"
    }
   ],
   "source": [
    "X_met_test.shape"
   ]
  },
  {
   "cell_type": "code",
   "execution_count": 21,
   "metadata": {},
   "outputs": [
    {
     "data": {
      "text/plain": [
       "array\n",
       "131072    18018\n",
       "Name: count, dtype: int64"
      ]
     },
     "execution_count": 21,
     "metadata": {},
     "output_type": "execute_result"
    }
   ],
   "source": [
    "#mostra quante shape ci sono nella colonna Seq\n",
    "# Calcola le dimensioni diverse per ogni riga nella colonna specificata\n",
    "dimensioni_per_riga = data['array'].apply(lambda x: len(x))\n",
    "\n",
    "dimensioni_per_riga.value_counts()"
   ]
  },
  {
   "cell_type": "code",
   "execution_count": 24,
   "metadata": {},
   "outputs": [
    {
     "data": {
      "text/plain": [
       "dtype('float32')"
      ]
     },
     "execution_count": 24,
     "metadata": {},
     "output_type": "execute_result"
    }
   ],
   "source": [
    "data['array'][0].dtype"
   ]
  },
  {
   "cell_type": "code",
   "execution_count": 3,
   "metadata": {},
   "outputs": [],
   "source": [
    "import numpy as np\n",
    "from scipy import sparse\n",
    "\n",
    "def desparse(a):\n",
    "    return sparse.csr_array(a)\n",
    "\n",
    "#applica sulla colonna array la funzione desparse\n",
    "df['Metilazione_compressed'] = df['array'].apply(desparse)"
   ]
  },
  {
   "cell_type": "code",
   "execution_count": 6,
   "metadata": {},
   "outputs": [
    {
     "data": {
      "text/plain": [
       "(131072,)"
      ]
     },
     "execution_count": 6,
     "metadata": {},
     "output_type": "execute_result"
    },
    {
     "ename": "",
     "evalue": "",
     "output_type": "error",
     "traceback": [
      "\u001b[1;31mThe Kernel crashed while executing code in the current cell or a previous cell. \n",
      "\u001b[1;31mPlease review the code in the cell(s) to identify a possible cause of the failure. \n",
      "\u001b[1;31mClick <a href='https://aka.ms/vscodeJupyterKernelCrash'>here</a> for more info. \n",
      "\u001b[1;31mView Jupyter <a href='command:jupyter.viewOutput'>log</a> for further details."
     ]
    }
   ],
   "source": [
    "df['array'][0].shape"
   ]
  },
  {
   "cell_type": "code",
   "execution_count": 4,
   "metadata": {},
   "outputs": [
    {
     "ename": "MemoryError",
     "evalue": "Unable to allocate 17.7 GiB for an array with shape (18128, 131072) and data type float64",
     "output_type": "error",
     "traceback": [
      "\u001b[1;31m---------------------------------------------------------------------------\u001b[0m",
      "\u001b[1;31mMemoryError\u001b[0m                               Traceback (most recent call last)",
      "Cell \u001b[1;32mIn[4], line 5\u001b[0m\n\u001b[0;32m      2\u001b[0m colonna_csr_array \u001b[38;5;241m=\u001b[39m [csr_matrix\u001b[38;5;241m.\u001b[39mtoarray()[\u001b[38;5;241m0\u001b[39m] \u001b[38;5;28;01mfor\u001b[39;00m csr_matrix \u001b[38;5;129;01min\u001b[39;00m df[\u001b[38;5;124m'\u001b[39m\u001b[38;5;124mMetilazione_compressed\u001b[39m\u001b[38;5;124m'\u001b[39m]]\n\u001b[0;32m      4\u001b[0m \u001b[38;5;66;03m# Conta le righe in cui le colonne non sono uguali\u001b[39;00m\n\u001b[1;32m----> 5\u001b[0m righe_non_uguali \u001b[38;5;241m=\u001b[39m (\u001b[43mdf\u001b[49m\u001b[43m[\u001b[49m\u001b[38;5;124;43m'\u001b[39;49m\u001b[38;5;124;43marray\u001b[39;49m\u001b[38;5;124;43m'\u001b[39;49m\u001b[43m]\u001b[49m\u001b[43m \u001b[49m\u001b[38;5;241;43m!=\u001b[39;49m\u001b[43m \u001b[49m\u001b[43mcolonna_csr_array\u001b[49m)\u001b[38;5;241m.\u001b[39msum()\n\u001b[0;32m      7\u001b[0m \u001b[38;5;28mprint\u001b[39m(\u001b[38;5;124mf\u001b[39m\u001b[38;5;124m\"\u001b[39m\u001b[38;5;124mLe colonne sono uguali in \u001b[39m\u001b[38;5;132;01m{\u001b[39;00m\u001b[38;5;28mlen\u001b[39m(df)\u001b[38;5;250m \u001b[39m\u001b[38;5;241m-\u001b[39m\u001b[38;5;250m \u001b[39mrighe_non_uguali\u001b[38;5;132;01m}\u001b[39;00m\u001b[38;5;124m righe.\u001b[39m\u001b[38;5;124m\"\u001b[39m)\n\u001b[0;32m      8\u001b[0m \u001b[38;5;28mprint\u001b[39m(\u001b[38;5;124mf\u001b[39m\u001b[38;5;124m\"\u001b[39m\u001b[38;5;124mLe colonne sono diverse in \u001b[39m\u001b[38;5;132;01m{\u001b[39;00mrighe_non_uguali\u001b[38;5;132;01m}\u001b[39;00m\u001b[38;5;124m righe.\u001b[39m\u001b[38;5;124m\"\u001b[39m)\n",
      "File \u001b[1;32mc:\\Users\\Danilo\\anaconda3\\envs\\AIE\\Lib\\site-packages\\pandas\\core\\ops\\common.py:76\u001b[0m, in \u001b[0;36m_unpack_zerodim_and_defer.<locals>.new_method\u001b[1;34m(self, other)\u001b[0m\n\u001b[0;32m     72\u001b[0m             \u001b[38;5;28;01mreturn\u001b[39;00m \u001b[38;5;28mNotImplemented\u001b[39m\n\u001b[0;32m     74\u001b[0m other \u001b[38;5;241m=\u001b[39m item_from_zerodim(other)\n\u001b[1;32m---> 76\u001b[0m \u001b[38;5;28;01mreturn\u001b[39;00m \u001b[43mmethod\u001b[49m\u001b[43m(\u001b[49m\u001b[38;5;28;43mself\u001b[39;49m\u001b[43m,\u001b[49m\u001b[43m \u001b[49m\u001b[43mother\u001b[49m\u001b[43m)\u001b[49m\n",
      "File \u001b[1;32mc:\\Users\\Danilo\\anaconda3\\envs\\AIE\\Lib\\site-packages\\pandas\\core\\arraylike.py:44\u001b[0m, in \u001b[0;36mOpsMixin.__ne__\u001b[1;34m(self, other)\u001b[0m\n\u001b[0;32m     42\u001b[0m \u001b[38;5;129m@unpack_zerodim_and_defer\u001b[39m(\u001b[38;5;124m\"\u001b[39m\u001b[38;5;124m__ne__\u001b[39m\u001b[38;5;124m\"\u001b[39m)\n\u001b[0;32m     43\u001b[0m \u001b[38;5;28;01mdef\u001b[39;00m \u001b[38;5;21m__ne__\u001b[39m(\u001b[38;5;28mself\u001b[39m, other):\n\u001b[1;32m---> 44\u001b[0m     \u001b[38;5;28;01mreturn\u001b[39;00m \u001b[38;5;28;43mself\u001b[39;49m\u001b[38;5;241;43m.\u001b[39;49m\u001b[43m_cmp_method\u001b[49m\u001b[43m(\u001b[49m\u001b[43mother\u001b[49m\u001b[43m,\u001b[49m\u001b[43m \u001b[49m\u001b[43moperator\u001b[49m\u001b[38;5;241;43m.\u001b[39;49m\u001b[43mne\u001b[49m\u001b[43m)\u001b[49m\n",
      "File \u001b[1;32mc:\\Users\\Danilo\\anaconda3\\envs\\AIE\\Lib\\site-packages\\pandas\\core\\series.py:6110\u001b[0m, in \u001b[0;36mSeries._cmp_method\u001b[1;34m(self, other, op)\u001b[0m\n\u001b[0;32m   6107\u001b[0m lvalues \u001b[38;5;241m=\u001b[39m \u001b[38;5;28mself\u001b[39m\u001b[38;5;241m.\u001b[39m_values\n\u001b[0;32m   6108\u001b[0m rvalues \u001b[38;5;241m=\u001b[39m extract_array(other, extract_numpy\u001b[38;5;241m=\u001b[39m\u001b[38;5;28;01mTrue\u001b[39;00m, extract_range\u001b[38;5;241m=\u001b[39m\u001b[38;5;28;01mTrue\u001b[39;00m)\n\u001b[1;32m-> 6110\u001b[0m res_values \u001b[38;5;241m=\u001b[39m \u001b[43mops\u001b[49m\u001b[38;5;241;43m.\u001b[39;49m\u001b[43mcomparison_op\u001b[49m\u001b[43m(\u001b[49m\u001b[43mlvalues\u001b[49m\u001b[43m,\u001b[49m\u001b[43m \u001b[49m\u001b[43mrvalues\u001b[49m\u001b[43m,\u001b[49m\u001b[43m \u001b[49m\u001b[43mop\u001b[49m\u001b[43m)\u001b[49m\n\u001b[0;32m   6112\u001b[0m \u001b[38;5;28;01mreturn\u001b[39;00m \u001b[38;5;28mself\u001b[39m\u001b[38;5;241m.\u001b[39m_construct_result(res_values, name\u001b[38;5;241m=\u001b[39mres_name)\n",
      "File \u001b[1;32mc:\\Users\\Danilo\\anaconda3\\envs\\AIE\\Lib\\site-packages\\pandas\\core\\ops\\array_ops.py:314\u001b[0m, in \u001b[0;36mcomparison_op\u001b[1;34m(left, right, op)\u001b[0m\n\u001b[0;32m    310\u001b[0m rvalues \u001b[38;5;241m=\u001b[39m lib\u001b[38;5;241m.\u001b[39mitem_from_zerodim(rvalues)\n\u001b[0;32m    311\u001b[0m \u001b[38;5;28;01mif\u001b[39;00m \u001b[38;5;28misinstance\u001b[39m(rvalues, \u001b[38;5;28mlist\u001b[39m):\n\u001b[0;32m    312\u001b[0m     \u001b[38;5;66;03m# We don't catch tuple here bc we may be comparing e.g. MultiIndex\u001b[39;00m\n\u001b[0;32m    313\u001b[0m     \u001b[38;5;66;03m#  to a tuple that represents a single entry, see test_compare_tuple_strs\u001b[39;00m\n\u001b[1;32m--> 314\u001b[0m     rvalues \u001b[38;5;241m=\u001b[39m \u001b[43mnp\u001b[49m\u001b[38;5;241;43m.\u001b[39;49m\u001b[43masarray\u001b[49m\u001b[43m(\u001b[49m\u001b[43mrvalues\u001b[49m\u001b[43m)\u001b[49m\n\u001b[0;32m    316\u001b[0m \u001b[38;5;28;01mif\u001b[39;00m \u001b[38;5;28misinstance\u001b[39m(rvalues, (np\u001b[38;5;241m.\u001b[39mndarray, ABCExtensionArray)):\n\u001b[0;32m    317\u001b[0m     \u001b[38;5;66;03m# TODO: make this treatment consistent across ops and classes.\u001b[39;00m\n\u001b[0;32m    318\u001b[0m     \u001b[38;5;66;03m#  We are not catching all listlikes here (e.g. frozenset, tuple)\u001b[39;00m\n\u001b[0;32m    319\u001b[0m     \u001b[38;5;66;03m#  The ambiguous case is object-dtype.  See GH#27803\u001b[39;00m\n\u001b[0;32m    320\u001b[0m     \u001b[38;5;28;01mif\u001b[39;00m \u001b[38;5;28mlen\u001b[39m(lvalues) \u001b[38;5;241m!=\u001b[39m \u001b[38;5;28mlen\u001b[39m(rvalues):\n",
      "\u001b[1;31mMemoryError\u001b[0m: Unable to allocate 17.7 GiB for an array with shape (18128, 131072) and data type float64"
     ]
    }
   ],
   "source": [
    "# Converti la colonna csr_matrix in un array NumPy\n",
    "colonna_csr_array = [csr_matrix.toarray()[0] for csr_matrix in df['Metilazione_compressed']]\n",
    "\n",
    "# Conta le righe in cui le colonne non sono uguali\n",
    "righe_non_uguali = (df['array'] != colonna_csr_array).sum()\n",
    "\n",
    "print(f\"Le colonne sono uguali in {len(df) - righe_non_uguali} righe.\")\n",
    "print(f\"Le colonne sono diverse in {righe_non_uguali} righe.\")"
   ]
  }
 ],
 "metadata": {
  "kernelspec": {
   "display_name": "AIE",
   "language": "python",
   "name": "python3"
  },
  "language_info": {
   "codemirror_mode": {
    "name": "ipython",
    "version": 3
   },
   "file_extension": ".py",
   "mimetype": "text/x-python",
   "name": "python",
   "nbconvert_exporter": "python",
   "pygments_lexer": "ipython3",
   "version": "3.12.2"
  }
 },
 "nbformat": 4,
 "nbformat_minor": 2
}
