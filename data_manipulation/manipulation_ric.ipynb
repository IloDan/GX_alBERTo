{
 "cells": [
  {
   "cell_type": "code",
   "execution_count": null,
   "metadata": {},
   "outputs": [],
   "source": [
    "from Bio import SeqIO\n",
    "import pandas as pd\n",
    "import numpy as np\n",
    "\n",
    "\n",
    "chrdict = {}\n",
    "\n",
    "# !!!!! MODIFICATE IL PERCORSO DEL FILE\n",
    "# !!!!! MODIFICATE IL PERCORSO DEL FILE\n",
    "# !!!!! MODIFICATE IL PERCORSO DEL FILE\n",
    "# !!!!! MODIFICATE IL PERCORSO DEL FILE\n",
    "\n",
    "for i, record in enumerate(SeqIO.parse(\"C:\\Riccardo\\Magistrale_ing_inf\\AI_for_Bioinformatics\\progetto_37\\controllo_mappaggio\\GRCh37.primary_assembly.genome.fa\\GRCh37.primary_assembly.genome.fa\", \"fasta\")):\n",
    "    print(f\"{record.id}\")\n",
    "    chrdict[record.id] = record.seq\n",
    "\n",
    "\n",
    "# LE SE SEQUENZE DI BASI AZOTATE SONO MEMORIZZATE IN UN DIZIONARIO CHE USA COME CHIAVE \"chr#\" dove # indica\n",
    "# il numero del cromosoma oppure X/Y/M (M non ci interessa perché é il DNA mitocondriale che non viene usato per questo caso)\n",
    "\n",
    "\n",
    "# UA INIZIA INVECE LA PARTE DI LETTURA DEL FILE CONTENENTE I TSS\n",
    "\n",
    "\n",
    "def extract_p(p):\n",
    "    return p.split(\"@\")[0]\n",
    "\n",
    "def extract_gene_name(string):\n",
    "    string =  string.split(\"@\")[1]\n",
    "    return string.split(\",\")[0]\n",
    "\n",
    "v1 = np.vectorize(extract_p)\n",
    "v2 = np.vectorize(extract_gene_name)\n",
    "\n",
    "# ANCHE QUA CAMBIATE IL PERCORSO DEL FILE\n",
    "\n",
    "df = pd.read_csv(\"C:\\Riccardo\\Magistrale_ing_inf\\AI_for_Bioinformatics\\progetto_37\\costruzione_dataset\\TSS_human.bed\\TSS_human.bed\", delimiter=\"\\t\", skiprows=1, names=[\"chromosome_name\", \"start\", \"end\", \"locus_id\", \"color\", \"strand\", \"start2\", \"end2\", \"RGB\"])\n",
    "\n",
    "df['p'] = v1(df['locus_id'].values)\n",
    "df['gene_name'] = v2(df['locus_id'].values)\n",
    "\n",
    "\n",
    "result_df = df.loc[df.groupby(\"gene_name\")[\"p_value\"].idxmax()]\n",
    "\n",
    "result_df = result_df.drop(columns=[\"p_value\"])"
   ]
  },
  {
   "cell_type": "code",
   "execution_count": null,
   "metadata": {},
   "outputs": [],
   "source": [
    "result_df"
   ]
  }
 ],
 "metadata": {
  "kernelspec": {
   "display_name": "AIE",
   "language": "python",
   "name": "python3"
  },
  "language_info": {
   "name": "python",
   "version": "3.12.2"
  }
 },
 "nbformat": 4,
 "nbformat_minor": 2
}
