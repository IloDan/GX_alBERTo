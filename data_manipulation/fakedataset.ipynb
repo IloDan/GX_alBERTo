{
 "cells": [
  {
   "cell_type": "code",
   "execution_count": 21,
   "metadata": {},
   "outputs": [],
   "source": [
    "import pandas as pd\n",
    "import torch\n",
    "import numpy as np\n",
    "\n",
    "newDataset1_0 = pd.read_hdf(\"../CTB/CTB_128k_slack_0.h5\", key=\"df\", mode=\"r\")\n",
    "newDataset1_1 = pd.read_hdf(\"../CTB/CTB_128k_slack_1.h5\", key=\"df\", mode=\"r\")\n",
    "newDataset1_2 = pd.read_hdf(\"../CTB/CTB_128k_slack_2.h5\", key=\"df\", mode=\"r\")\n",
    "newDataset1_3 = pd.read_hdf(\"../CTB/CTB_128k_slack_3.h5\", key=\"df\", mode=\"r\")\n",
    "newDataset1_4 = pd.read_hdf(\"../CTB/CTB_128k_slack_4.h5\", key=\"df\", mode=\"r\")\n",
    "newDataset1_5 = pd.read_hdf(\"../CTB/CTB_128k_slack_5.h5\", key=\"df\", mode=\"r\")\n",
    "newDataset1_6 = pd.read_hdf(\"../CTB/CTB_128k_slack_6.h5\", key=\"df\", mode=\"r\")\n",
    "\n",
    "dataset = pd.concat([\n",
    "                            newDataset1_0,\n",
    "                            newDataset1_1,\n",
    "                            newDataset1_2,\n",
    "                            newDataset1_3,\n",
    "                            newDataset1_4,\n",
    "                            newDataset1_5,\n",
    "                            newDataset1_6,\n",
    "                         ])\n",
    "\n",
    "def met_seq(dims):\n",
    "    # Crea una maschera casuale con la stessa forma del tensore di input\n",
    "    # La maschera ha valori 1 con una probabilità p e 0 con una probabilità 1-p\n",
    "    p = 0.1  # Probabilità di 1 (modifica questo valore per avere più o meno zeri)\n",
    "    #mask = torch.rand(dims) < p\n",
    "    #fai la stessa cosa con numpy array\n",
    "    mask = np.random.rand(dims) < p\n",
    "\n",
    "    # Genera un tensore di valori casuali tra 0 e 1\n",
    "    #random_values = torch.rand(dims)\n",
    "    random_values = np.random.rand(dims)\n",
    "\n",
    "    # Applica la maschera al tensore di valori casuali\n",
    "    # Solo i valori corrispondenti a 1 nella maschera saranno preservati, gli altri saranno impostati a 0\n",
    "    sparse_random_tensor = random_values * mask\n",
    "\n",
    "    return sparse_random_tensor\n",
    "\n"
   ]
  },
  {
   "cell_type": "code",
   "execution_count": 19,
   "metadata": {},
   "outputs": [
    {
     "ename": "ValueError",
     "evalue": "Length of values (131328) does not match length of index (18133)",
     "output_type": "error",
     "traceback": [
      "\u001b[1;31m---------------------------------------------------------------------------\u001b[0m",
      "\u001b[1;31mValueError\u001b[0m                                Traceback (most recent call last)",
      "Cell \u001b[1;32mIn[19], line 4\u001b[0m\n\u001b[0;32m      1\u001b[0m \u001b[38;5;28;01mfor\u001b[39;00m i \u001b[38;5;129;01min\u001b[39;00m dataset[\u001b[38;5;124m'\u001b[39m\u001b[38;5;124msequence\u001b[39m\u001b[38;5;124m'\u001b[39m]:\n\u001b[0;32m      2\u001b[0m     \u001b[38;5;66;03m#add np array dato da met_seq in una nuova colonna\u001b[39;00m\n\u001b[1;32m----> 4\u001b[0m     \u001b[43mdataset\u001b[49m\u001b[43m[\u001b[49m\u001b[38;5;124;43m'\u001b[39;49m\u001b[38;5;124;43mmet\u001b[39;49m\u001b[38;5;124;43m'\u001b[39;49m\u001b[43m]\u001b[49m \u001b[38;5;241m=\u001b[39m met_seq(i\u001b[38;5;241m.\u001b[39mshape[\u001b[38;5;241m0\u001b[39m])\n",
      "File \u001b[1;32mc:\\Users\\Danilo\\anaconda3\\envs\\AIE\\Lib\\site-packages\\pandas\\core\\frame.py:4299\u001b[0m, in \u001b[0;36mDataFrame.__setitem__\u001b[1;34m(self, key, value)\u001b[0m\n\u001b[0;32m   4296\u001b[0m     \u001b[38;5;28mself\u001b[39m\u001b[38;5;241m.\u001b[39m_setitem_array([key], value)\n\u001b[0;32m   4297\u001b[0m \u001b[38;5;28;01melse\u001b[39;00m:\n\u001b[0;32m   4298\u001b[0m     \u001b[38;5;66;03m# set column\u001b[39;00m\n\u001b[1;32m-> 4299\u001b[0m     \u001b[38;5;28;43mself\u001b[39;49m\u001b[38;5;241;43m.\u001b[39;49m\u001b[43m_set_item\u001b[49m\u001b[43m(\u001b[49m\u001b[43mkey\u001b[49m\u001b[43m,\u001b[49m\u001b[43m \u001b[49m\u001b[43mvalue\u001b[49m\u001b[43m)\u001b[49m\n",
      "File \u001b[1;32mc:\\Users\\Danilo\\anaconda3\\envs\\AIE\\Lib\\site-packages\\pandas\\core\\frame.py:4512\u001b[0m, in \u001b[0;36mDataFrame._set_item\u001b[1;34m(self, key, value)\u001b[0m\n\u001b[0;32m   4502\u001b[0m \u001b[38;5;28;01mdef\u001b[39;00m \u001b[38;5;21m_set_item\u001b[39m(\u001b[38;5;28mself\u001b[39m, key, value) \u001b[38;5;241m-\u001b[39m\u001b[38;5;241m>\u001b[39m \u001b[38;5;28;01mNone\u001b[39;00m:\n\u001b[0;32m   4503\u001b[0m \u001b[38;5;250m    \u001b[39m\u001b[38;5;124;03m\"\"\"\u001b[39;00m\n\u001b[0;32m   4504\u001b[0m \u001b[38;5;124;03m    Add series to DataFrame in specified column.\u001b[39;00m\n\u001b[0;32m   4505\u001b[0m \n\u001b[1;32m   (...)\u001b[0m\n\u001b[0;32m   4510\u001b[0m \u001b[38;5;124;03m    ensure homogeneity.\u001b[39;00m\n\u001b[0;32m   4511\u001b[0m \u001b[38;5;124;03m    \"\"\"\u001b[39;00m\n\u001b[1;32m-> 4512\u001b[0m     value, refs \u001b[38;5;241m=\u001b[39m \u001b[38;5;28;43mself\u001b[39;49m\u001b[38;5;241;43m.\u001b[39;49m\u001b[43m_sanitize_column\u001b[49m\u001b[43m(\u001b[49m\u001b[43mvalue\u001b[49m\u001b[43m)\u001b[49m\n\u001b[0;32m   4514\u001b[0m     \u001b[38;5;28;01mif\u001b[39;00m (\n\u001b[0;32m   4515\u001b[0m         key \u001b[38;5;129;01min\u001b[39;00m \u001b[38;5;28mself\u001b[39m\u001b[38;5;241m.\u001b[39mcolumns\n\u001b[0;32m   4516\u001b[0m         \u001b[38;5;129;01mand\u001b[39;00m value\u001b[38;5;241m.\u001b[39mndim \u001b[38;5;241m==\u001b[39m \u001b[38;5;241m1\u001b[39m\n\u001b[0;32m   4517\u001b[0m         \u001b[38;5;129;01mand\u001b[39;00m \u001b[38;5;129;01mnot\u001b[39;00m \u001b[38;5;28misinstance\u001b[39m(value\u001b[38;5;241m.\u001b[39mdtype, ExtensionDtype)\n\u001b[0;32m   4518\u001b[0m     ):\n\u001b[0;32m   4519\u001b[0m         \u001b[38;5;66;03m# broadcast across multiple columns if necessary\u001b[39;00m\n\u001b[0;32m   4520\u001b[0m         \u001b[38;5;28;01mif\u001b[39;00m \u001b[38;5;129;01mnot\u001b[39;00m \u001b[38;5;28mself\u001b[39m\u001b[38;5;241m.\u001b[39mcolumns\u001b[38;5;241m.\u001b[39mis_unique \u001b[38;5;129;01mor\u001b[39;00m \u001b[38;5;28misinstance\u001b[39m(\u001b[38;5;28mself\u001b[39m\u001b[38;5;241m.\u001b[39mcolumns, MultiIndex):\n",
      "File \u001b[1;32mc:\\Users\\Danilo\\anaconda3\\envs\\AIE\\Lib\\site-packages\\pandas\\core\\frame.py:5253\u001b[0m, in \u001b[0;36mDataFrame._sanitize_column\u001b[1;34m(self, value)\u001b[0m\n\u001b[0;32m   5250\u001b[0m     \u001b[38;5;28;01mreturn\u001b[39;00m _reindex_for_setitem(value, \u001b[38;5;28mself\u001b[39m\u001b[38;5;241m.\u001b[39mindex)\n\u001b[0;32m   5252\u001b[0m \u001b[38;5;28;01mif\u001b[39;00m is_list_like(value):\n\u001b[1;32m-> 5253\u001b[0m     \u001b[43mcom\u001b[49m\u001b[38;5;241;43m.\u001b[39;49m\u001b[43mrequire_length_match\u001b[49m\u001b[43m(\u001b[49m\u001b[43mvalue\u001b[49m\u001b[43m,\u001b[49m\u001b[43m \u001b[49m\u001b[38;5;28;43mself\u001b[39;49m\u001b[38;5;241;43m.\u001b[39;49m\u001b[43mindex\u001b[49m\u001b[43m)\u001b[49m\n\u001b[0;32m   5254\u001b[0m arr \u001b[38;5;241m=\u001b[39m sanitize_array(value, \u001b[38;5;28mself\u001b[39m\u001b[38;5;241m.\u001b[39mindex, copy\u001b[38;5;241m=\u001b[39m\u001b[38;5;28;01mTrue\u001b[39;00m, allow_2d\u001b[38;5;241m=\u001b[39m\u001b[38;5;28;01mTrue\u001b[39;00m)\n\u001b[0;32m   5255\u001b[0m \u001b[38;5;28;01mif\u001b[39;00m (\n\u001b[0;32m   5256\u001b[0m     \u001b[38;5;28misinstance\u001b[39m(value, Index)\n\u001b[0;32m   5257\u001b[0m     \u001b[38;5;129;01mand\u001b[39;00m value\u001b[38;5;241m.\u001b[39mdtype \u001b[38;5;241m==\u001b[39m \u001b[38;5;124m\"\u001b[39m\u001b[38;5;124mobject\u001b[39m\u001b[38;5;124m\"\u001b[39m\n\u001b[1;32m   (...)\u001b[0m\n\u001b[0;32m   5260\u001b[0m     \u001b[38;5;66;03m# TODO: Remove kludge in sanitize_array for string mode when enforcing\u001b[39;00m\n\u001b[0;32m   5261\u001b[0m     \u001b[38;5;66;03m# this deprecation\u001b[39;00m\n",
      "File \u001b[1;32mc:\\Users\\Danilo\\anaconda3\\envs\\AIE\\Lib\\site-packages\\pandas\\core\\common.py:573\u001b[0m, in \u001b[0;36mrequire_length_match\u001b[1;34m(data, index)\u001b[0m\n\u001b[0;32m    569\u001b[0m \u001b[38;5;250m\u001b[39m\u001b[38;5;124;03m\"\"\"\u001b[39;00m\n\u001b[0;32m    570\u001b[0m \u001b[38;5;124;03mCheck the length of data matches the length of the index.\u001b[39;00m\n\u001b[0;32m    571\u001b[0m \u001b[38;5;124;03m\"\"\"\u001b[39;00m\n\u001b[0;32m    572\u001b[0m \u001b[38;5;28;01mif\u001b[39;00m \u001b[38;5;28mlen\u001b[39m(data) \u001b[38;5;241m!=\u001b[39m \u001b[38;5;28mlen\u001b[39m(index):\n\u001b[1;32m--> 573\u001b[0m     \u001b[38;5;28;01mraise\u001b[39;00m \u001b[38;5;167;01mValueError\u001b[39;00m(\n\u001b[0;32m    574\u001b[0m         \u001b[38;5;124m\"\u001b[39m\u001b[38;5;124mLength of values \u001b[39m\u001b[38;5;124m\"\u001b[39m\n\u001b[0;32m    575\u001b[0m         \u001b[38;5;124mf\u001b[39m\u001b[38;5;124m\"\u001b[39m\u001b[38;5;124m(\u001b[39m\u001b[38;5;132;01m{\u001b[39;00m\u001b[38;5;28mlen\u001b[39m(data)\u001b[38;5;132;01m}\u001b[39;00m\u001b[38;5;124m) \u001b[39m\u001b[38;5;124m\"\u001b[39m\n\u001b[0;32m    576\u001b[0m         \u001b[38;5;124m\"\u001b[39m\u001b[38;5;124mdoes not match length of index \u001b[39m\u001b[38;5;124m\"\u001b[39m\n\u001b[0;32m    577\u001b[0m         \u001b[38;5;124mf\u001b[39m\u001b[38;5;124m\"\u001b[39m\u001b[38;5;124m(\u001b[39m\u001b[38;5;132;01m{\u001b[39;00m\u001b[38;5;28mlen\u001b[39m(index)\u001b[38;5;132;01m}\u001b[39;00m\u001b[38;5;124m)\u001b[39m\u001b[38;5;124m\"\u001b[39m\n\u001b[0;32m    578\u001b[0m     )\n",
      "\u001b[1;31mValueError\u001b[0m: Length of values (131328) does not match length of index (18133)"
     ]
    }
   ],
   "source": [
    "for i in dataset['sequence']:\n",
    "    #add np array dato da met_seq in una nuova colonna\n",
    "    \n",
    "    dataset['met'] = met_seq(i.shape[0])\n",
    "    \n",
    "    "
   ]
  },
  {
   "cell_type": "code",
   "execution_count": 23,
   "metadata": {},
   "outputs": [
    {
     "name": "stdout",
     "output_type": "stream",
     "text": [
      "                gene_name             gene_id       gene_type        TSS  \\\n",
      "ENSG00000121410      A1BG  ENSG00000121410.12  protein_coding   58347673   \n",
      "ENSG00000148584      A1CF  ENSG00000148584.15  protein_coding   50885633   \n",
      "ENSG00000175899       A2M  ENSG00000175899.15  protein_coding    9115927   \n",
      "ENSG00000166535     A2ML1  ENSG00000166535.20  protein_coding    8822627   \n",
      "ENSG00000128274    A4GALT  ENSG00000128274.17  protein_coding   42720879   \n",
      "...                   ...                 ...             ...        ...   \n",
      "ENSG00000166160   OPN1MW2   ENSG00000166160.9  protein_coding  154219756   \n",
      "ENSG00000184033    CTAG1B  ENSG00000184033.14  protein_coding  154619282   \n",
      "ENSG00000126890     CTAG2  ENSG00000126890.14  protein_coding  154653579   \n",
      "ENSG00000203870     SMIM9   ENSG00000203870.5  protein_coding  154834662   \n",
      "ENSG00000182712      CMC4  ENSG00000182712.16  protein_coding  155071136   \n",
      "\n",
      "                genomic_strand chromosome_name  \\\n",
      "ENSG00000121410              -           chr19   \n",
      "ENSG00000148584              -           chr10   \n",
      "ENSG00000175899              -           chr12   \n",
      "ENSG00000166535              +           chr12   \n",
      "ENSG00000128274              -           chr22   \n",
      "...                        ...             ...   \n",
      "ENSG00000166160              +            chrX   \n",
      "ENSG00000184033              -            chrX   \n",
      "ENSG00000126890              -            chrX   \n",
      "ENSG00000203870              -            chrX   \n",
      "ENSG00000182712              -            chrX   \n",
      "\n",
      "                                                          sequence  split  \\\n",
      "ENSG00000121410  [0, 0, 0, 3, 0, 0, 0, 0, 0, 0, 0, 1, 0, 2, 2, ...  train   \n",
      "ENSG00000148584  [1, 1, 3, 0, 0, 0, 3, 2, 2, 1, 1, 1, 2, 1, 2, ...  train   \n",
      "ENSG00000175899  [1, 2, 0, 3, 1, 1, 0, 1, 2, 1, 2, 2, 1, 1, 0, ...  train   \n",
      "ENSG00000166535  [3, 1, 3, 0, 3, 2, 2, 0, 2, 2, 3, 1, 3, 2, 2, ...  train   \n",
      "ENSG00000128274  [1, 0, 1, 1, 2, 0, 3, 1, 0, 1, 3, 0, 1, 3, 0, ...  train   \n",
      "...                                                            ...    ...   \n",
      "ENSG00000166160  [0, 3, 3, 0, 3, 2, 1, 3, 3, 3, 2, 2, 1, 0, 2, ...  train   \n",
      "ENSG00000184033  [3, 0, 1, 0, 3, 0, 0, 1, 0, 0, 3, 0, 0, 3, 3, ...  train   \n",
      "ENSG00000126890  [1, 2, 1, 3, 2, 0, 2, 0, 3, 1, 3, 1, 2, 2, 0, ...  train   \n",
      "ENSG00000203870  [0, 3, 3, 0, 3, 3, 1, 3, 3, 0, 3, 3, 1, 1, 3, ...  train   \n",
      "ENSG00000182712  [3, 1, 1, 1, 3, 3, 3, 3, 2, 0, 3, 3, 3, 2, 0, ...  train   \n",
      "\n",
      "                   labels                                                met  \n",
      "ENSG00000121410  0.128766  [0.0, 0.0, 0.0, 0.0, 0.0, 0.0, 0.0, 0.0, 0.0, ...  \n",
      "ENSG00000148584 -1.442332  [0.0, 0.0, 0.8927213583581546, 0.0, 0.0, 0.0, ...  \n",
      "ENSG00000175899  1.172033  [0.3245944409221394, 0.0, 0.0, 0.9544785444768...  \n",
      "ENSG00000166535 -1.300226  [0.0, 0.0, 0.0, 0.6722585747243738, 0.0, 0.0, ...  \n",
      "ENSG00000128274  0.157178  [0.0, 0.0, 0.0, 0.0, 0.0, 0.0, 0.0, 0.0, 0.0, ...  \n",
      "...                   ...                                                ...  \n",
      "ENSG00000166160 -1.463212  [0.0, 0.0, 0.0, 0.0, 0.0, 0.0, 0.1612652222966...  \n",
      "ENSG00000184033 -1.463212  [0.0, 0.0, 0.0, 0.0, 0.0, 0.0, 0.0, 0.0, 0.0, ...  \n",
      "ENSG00000126890 -1.463212  [0.0, 0.0, 0.0, 0.0, 0.0, 0.0, 0.0, 0.0, 0.0, ...  \n",
      "ENSG00000203870 -1.463212  [0.0, 0.0, 0.0, 0.0, 0.0, 0.0, 0.0, 0.0, 0.0, ...  \n",
      "ENSG00000182712  0.697807  [0.0, 0.45611622616329783, 0.0, 0.0, 0.0, 0.0,...  \n",
      "\n",
      "[18133 rows x 10 columns]\n"
     ]
    }
   ],
   "source": [
    "\n",
    "# Applica la funzione met_seq alla colonna 'sequence' e crea una nuova colonna chiamata 'new_column'\n",
    "dataset['met'] = dataset['sequence'].apply(lambda x: met_seq((x.shape[0])))\n",
    "\n",
    "# Stampa il dataset per controllare la nuova colonna\n",
    "print(dataset)"
   ]
  },
  {
   "cell_type": "code",
   "execution_count": 30,
   "metadata": {},
   "outputs": [
    {
     "name": "stderr",
     "output_type": "stream",
     "text": [
      "C:\\Users\\Danilo\\AppData\\Local\\Temp\\ipykernel_13876\\1392658546.py:1: FutureWarning: Series.__getitem__ treating keys as positions is deprecated. In a future version, integer keys will always be treated as labels (consistent with DataFrame behavior). To access a value by position, use `ser.iloc[pos]`\n",
      "  dataset['sequence'][0].shape\n"
     ]
    },
    {
     "data": {
      "text/plain": [
       "(131328,)"
      ]
     },
     "execution_count": 30,
     "metadata": {},
     "output_type": "execute_result"
    }
   ],
   "source": [
    "dataset['sequence'][0].shape"
   ]
  }
 ],
 "metadata": {
  "kernelspec": {
   "display_name": "AIE",
   "language": "python",
   "name": "python3"
  },
  "language_info": {
   "codemirror_mode": {
    "name": "ipython",
    "version": 3
   },
   "file_extension": ".py",
   "mimetype": "text/x-python",
   "name": "python",
   "nbconvert_exporter": "python",
   "pygments_lexer": "ipython3",
   "version": "3.12.2"
  }
 },
 "nbformat": 4,
 "nbformat_minor": 2
}
